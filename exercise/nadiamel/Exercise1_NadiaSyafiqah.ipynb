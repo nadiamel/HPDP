{
  "nbformat": 4,
  "nbformat_minor": 0,
  "metadata": {
    "colab": {
      "provenance": [],
      "toc_visible": true,
      "authorship_tag": "ABX9TyM5SSp4OCiDQpZfU/gGClRw",
      "include_colab_link": true
    },
    "kernelspec": {
      "name": "python3",
      "display_name": "Python 3"
    },
    "language_info": {
      "name": "python"
    }
  },
  "cells": [
    {
      "cell_type": "markdown",
      "metadata": {
        "id": "view-in-github",
        "colab_type": "text"
      },
      "source": [
        "<a href=\"https://colab.research.google.com/github/nadiamel/HPDP/blob/main/exercise/nadiamel/Exercise1_NadiaSyafiqah.ipynb\" target=\"_parent\"><img src=\"https://colab.research.google.com/assets/colab-badge.svg\" alt=\"Open In Colab\"/></a>"
      ]
    },
    {
      "cell_type": "code",
      "execution_count": null,
      "metadata": {
        "id": "Z_wpKvevbRyb"
      },
      "outputs": [],
      "source": []
    },
    {
      "cell_type": "markdown",
      "source": [
        "# New Section"
      ],
      "metadata": {
        "id": "amrv6wIObZaf"
      }
    },
    {
      "cell_type": "markdown",
      "source": [
        "# Basic Information\n",
        "\n",
        "## Hello World\n",
        "### Hello World\n",
        "#### Hello World\n"
      ],
      "metadata": {
        "id": "nVDm0vtNbcq6"
      }
    },
    {
      "cell_type": "markdown",
      "source": [
        "**Dataset** conatining sales data from the mock office supply company."
      ],
      "metadata": {
        "id": "NXsnK2Bmb4a8"
      }
    },
    {
      "cell_type": "markdown",
      "source": [
        ">One level of indentation"
      ],
      "metadata": {
        "id": "Y1ie9VZJcU1I"
      }
    },
    {
      "cell_type": "markdown",
      "source": [
        ">>Two levels of indentation"
      ],
      "metadata": {
        "id": "o8zuOHhfc58d"
      }
    },
    {
      "cell_type": "markdown",
      "source": [
        "```python\n",
        "print(\"a\")\n",
        "```"
      ],
      "metadata": {
        "id": "QfcpkuWxdkfa"
      }
    },
    {
      "cell_type": "markdown",
      "source": [
        "Code blocks\n",
        "\n",
        "```python\n",
        "print(\"a\")\n",
        "```\n",
        "print(\"a\")\n",
        "Ordered lists:\n",
        "\n",
        "1. One\n",
        "1. Two\n",
        "1. Three\n",
        "One\n",
        "Two\n",
        "Three\n",
        "Unordered lists:\n",
        "\n",
        "* One\n",
        "* Two\n",
        "* Three\n",
        "One\n",
        "Two\n",
        "Three\n",
        "Equations:\n",
        "\n",
        "$y=x^2$\n",
        "\n",
        "$e^{i\\pi} + 1 = 0$\n",
        "\n",
        "$e^x=\\sum_{i=0}^\\infty \\frac{1}{i!}x^i$\n",
        "\n",
        "$\\frac{n!}{k!(n-k)!} = {n \\choose k}$\n",
        "\n",
        "$A_{m,n} =\n",
        " \\begin{pmatrix}\n",
        "  a_{1,1} & a_{1,2} & \\cdots & a_{1,n} \\\\\n",
        "  a_{2,1} & a_{2,2} & \\cdots & a_{2,n} \\\\\n",
        "  \\vdots  & \\vdots  & \\ddots & \\vdots  \\\\\n",
        "  a_{m,1} & a_{m,2} & \\cdots & a_{m,n}\n",
        " \\end{pmatrix}$\n",
        "y=x2\n",
        "\n",
        "eiπ+1=0\n",
        "\n",
        "ex=∑∞i=01i!xi\n",
        "\n",
        "n!k!(n−k)!=(nk)\n",
        "\n",
        "Am,n=⎛⎝⎜⎜⎜⎜⎜a1,1a2,1⋮am,1a1,2a2,2⋮am,2⋯⋯⋱⋯a1,na2,n⋮am,n⎞⎠⎟⎟⎟⎟⎟\n",
        "\n",
        "Tables:\n",
        "\n",
        "First column name  | Second column name\n",
        "-------------------|------------------\n",
        "Row 1, Col 1       | Row 1, Col 2\n",
        "Row 2, Col 1       | Row 2, Col 2\n",
        "First column name\tSecond column name\n",
        "Row 1, Col 1\tRow 1, Col 2\n",
        "Row 2, Col 1\tRow 2, Col 2\n",
        "Horizontal rules:\n",
        "\n",
        "---"
      ],
      "metadata": {
        "id": "izfS7d0DePvh"
      }
    }
  ]
}